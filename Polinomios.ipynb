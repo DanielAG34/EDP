{
  "nbformat": 4,
  "nbformat_minor": 0,
  "metadata": {
    "colab": {
      "provenance": [],
      "authorship_tag": "ABX9TyOI+rQSSpJs58aS72kV6KN4",
      "include_colab_link": true
    },
    "kernelspec": {
      "name": "python3",
      "display_name": "Python 3"
    },
    "language_info": {
      "name": "python"
    }
  },
  "cells": [
    {
      "cell_type": "markdown",
      "metadata": {
        "id": "view-in-github",
        "colab_type": "text"
      },
      "source": [
        "<a href=\"https://colab.research.google.com/github/DanielAG34/EDP/blob/main/Polinomios.ipynb\" target=\"_parent\"><img src=\"https://colab.research.google.com/assets/colab-badge.svg\" alt=\"Open In Colab\"/></a>"
      ]
    },
    {
      "cell_type": "markdown",
      "source": [
        "(a) Graficar en un solo panel los polinomios de Legendre, $Pn(z)$ para $n = 0,..,5.$"
      ],
      "metadata": {
        "id": "iXQ6ZEywWGeF"
      }
    },
    {
      "cell_type": "code",
      "execution_count": null,
      "metadata": {
        "id": "2N4eO8EXV2zf"
      },
      "outputs": [],
      "source": [
        "import numpy as np\n",
        "import matplotlib.pyplot as plt\n",
        "from scipy.special import legendre\n",
        "\n",
        "# Dominio para graficar\n",
        "x_vals = np.linspace(-1, 1, 400)\n",
        "\n",
        "# Crear figura\n",
        "plt.figure(figsize=(10, 6))\n",
        "\n",
        "# Graficar los polinomios de Legendre P₀(x) a P₅(x)\n",
        "for n in range(6):\n",
        "    Pn = legendre(n)  # Retorna un objeto tipo polinomio de numpy\n",
        "    y_vals = Pn(x_vals)  # Evaluar en x\n",
        "    plt.plot(x_vals, y_vals, label=f'$P_{n}(x)$')\n",
        "\n",
        "# Personalización del gráfico\n",
        "plt.title('Polinomios de Legendre $P_n(x)$ para $n=0,..,5$')\n",
        "plt.xlabel('$x$')\n",
        "plt.ylabel('$P_n(x)$')\n",
        "plt.grid(True)\n",
        "plt.legend()\n",
        "plt.axhline(0, color='black', lw=0.5)\n",
        "plt.axvline(0, color='black', lw=0.5)\n",
        "plt.show()"
      ]
    },
    {
      "cell_type": "markdown",
      "source": [
        "(b) Mostrar graficamente que se satisface la relación (hágalo para $n = 3$):\n",
        "(c) Mostrar algebraicamente que se satisface la relación (hágalo para n= 3):"
      ],
      "metadata": {
        "id": "Q22qzCXQWaFF"
      }
    },
    {
      "cell_type": "code",
      "source": [
        "from sympy import symbols, diff, legendre, expand, simplify, Eq\n",
        "\n",
        "# Definir la variable y el valor de n\n",
        "x = symbols('x')\n",
        "n = 3\n",
        "\n",
        "# Definir los polinomios de Legendre necesarios\n",
        "P_n = legendre(n, x)\n",
        "P_n1 = legendre(n + 1, x)  # P_{n+1}\n",
        "P_n_1 = legendre(n - 1, x)  # P_{n-1}\n",
        "\n",
        "# Construir el lado izquierdo de la relación\n",
        "left_side = (n + 1)*P_n1 - (2*n + 1)*x*P_n + n*P_n_1\n",
        "\n",
        "# Simplificar la expresión\n",
        "simplified_expr = simplify(expand(left_side))\n",
        "\n",
        "# Mostrar los resultados\n",
        "print(\"Polinomios de Legendre:\")\n",
        "print(f\"P_{n}(x) = {P_n}\")\n",
        "print(f\"P_{n+1}(x) = {P_n1}\")\n",
        "print(f\"P_{n-1}(x) = {P_n_1}\\n\")\n",
        "\n",
        "print(\"Lado izquierdo de la relación:\")\n",
        "print(f\"(n+1)P_{n+1}(x) - (2n+1)xP_{n}(x) + nP_{n-1}(x) = {left_side}\\n\")\n",
        "\n",
        "print(\"Expresión simplificada:\")\n",
        "print(simplified_expr)"
      ],
      "metadata": {
        "id": "3mfF_-CjWfw-"
      },
      "execution_count": null,
      "outputs": []
    },
    {
      "cell_type": "markdown",
      "source": [
        "(d) Mostrar algebraicamente que se satisface la relación (hágalo para n= 3):"
      ],
      "metadata": {
        "id": "kyd0LVRbWmKz"
      }
    },
    {
      "cell_type": "code",
      "source": [
        "import numpy as np\n",
        "import matplotlib.pyplot as plt\n",
        "from scipy.special import legendre\n",
        "\n",
        "# Parámetro\n",
        "n = 3\n",
        "x_vals = np.linspace(-1, 1, 400)\n",
        "\n",
        "# Polinomios P_n(x) y P_{n+1}(x)\n",
        "Pn = legendre(n)\n",
        "Pn1 = legendre(n + 1)\n",
        "\n",
        "# Para la derivada:\n",
        "Pn_deriv = Pn.deriv()\n",
        "\n",
        "# Lado izquierdo: (1 - x^2) * Pn'(x)\n",
        "lhs_vals = (1 - x_vals**2) * Pn_deriv(x_vals)\n",
        "\n",
        "# Lado derecho: (n+1)x*Pn(x) - (n+1)*Pn1(x)\n",
        "rhs_vals = (n + 1) * x_vals * Pn(x_vals) - (n + 1) * Pn1(x_vals)\n",
        "\n",
        "# Para la grafica de ambos lados:\n",
        "plt.figure(figsize=(10, 6))\n",
        "plt.plot(x_vals, lhs_vals, label='Lado Izquierdo: $(1 - x^2) P_3\\'(x)$', linestyle='--',color='black')\n",
        "plt.plot(x_vals, rhs_vals, label='Lado Derecho: $4xP_3(x) - 4P_4(x)$', linestyle=':',color='pink')\n",
        "\n",
        "plt.title('Verificación gráfica para $n = 3$')\n",
        "plt.xlabel('$x$')\n",
        "plt.legend()\n",
        "plt.grid(True)\n",
        "plt.axhline(0, color='green', lw=0.5)\n",
        "plt.axvline(0, color='green', lw=0.5)\n",
        "plt.show()"
      ],
      "metadata": {
        "id": "QjVw_CBaW8LX"
      },
      "execution_count": null,
      "outputs": []
    },
    {
      "cell_type": "markdown",
      "source": [
        "(e) Muestre que se cumple la fórmula de Rodrigues, ejemplificando paran = 0,1,.., 5:"
      ],
      "metadata": {
        "id": "kaMiaX3HXFkr"
      }
    },
    {
      "cell_type": "code",
      "source": [
        "from sympy import symbols, diff, factorial, legendre, simplify, expand\n",
        "\n",
        "x = symbols('x')\n",
        "\n",
        "def rodrigues_formula(n):\n",
        "    \"\"\"Calcula el polinomio de Legendre usando la fórmula de Rodrigues\"\"\"\n",
        "    return (1/(2**n * factorial(n))) * diff((x**2 - 1)**n, x, n)\n",
        "\n",
        "# Verificamos para n = 0 a 5\n",
        "print(\"Verificación de la fórmula de Rodrigues para Pₙ(x):\")\n",
        "for n in range(6):\n",
        "    P_rodrigues = expand(rodrigues_formula(n))\n",
        "    P_legendre = legendre(n, x)\n",
        "\n",
        "    print(f\"\\nn = {n}:\")\n",
        "    print(f\"Por Rodrigues: {P_rodrigues}\")\n",
        "    print(f\"Por SymPy:     {P_legendre}\")\n",
        "    print(f\"¿Coinciden?   {P_rodrigues.equals(P_legendre)}\")"
      ],
      "metadata": {
        "colab": {
          "base_uri": "https://localhost:8080/"
        },
        "id": "clZgHzocYQlX",
        "outputId": "129d93d3-8719-485e-eec6-84147f9f3854"
      },
      "execution_count": 6,
      "outputs": [
        {
          "output_type": "stream",
          "name": "stdout",
          "text": [
            "Verificación de la fórmula de Rodrigues para Pₙ(x):\n",
            "\n",
            "n = 0:\n",
            "Por Rodrigues: 1\n",
            "Por SymPy:     1\n",
            "¿Coinciden?   True\n",
            "\n",
            "n = 1:\n",
            "Por Rodrigues: x\n",
            "Por SymPy:     x\n",
            "¿Coinciden?   True\n",
            "\n",
            "n = 2:\n",
            "Por Rodrigues: 3*x**2/2 - 1/2\n",
            "Por SymPy:     3*x**2/2 - 1/2\n",
            "¿Coinciden?   True\n",
            "\n",
            "n = 3:\n",
            "Por Rodrigues: 5*x**3/2 - 3*x/2\n",
            "Por SymPy:     5*x**3/2 - 3*x/2\n",
            "¿Coinciden?   True\n",
            "\n",
            "n = 4:\n",
            "Por Rodrigues: 35*x**4/8 - 15*x**2/4 + 3/8\n",
            "Por SymPy:     35*x**4/8 - 15*x**2/4 + 3/8\n",
            "¿Coinciden?   True\n",
            "\n",
            "n = 5:\n",
            "Por Rodrigues: 63*x**5/8 - 35*x**3/4 + 15*x/8\n",
            "Por SymPy:     63*x**5/8 - 35*x**3/4 + 15*x/8\n",
            "¿Coinciden?   True\n"
          ]
        }
      ]
    }
  ]
}