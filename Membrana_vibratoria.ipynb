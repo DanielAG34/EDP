{
  "nbformat": 4,
  "nbformat_minor": 0,
  "metadata": {
    "colab": {
      "provenance": [],
      "authorship_tag": "ABX9TyM+vb0kdvnuBj1+aSVLtwLh",
      "include_colab_link": true
    },
    "kernelspec": {
      "name": "python3",
      "display_name": "Python 3"
    },
    "language_info": {
      "name": "python"
    }
  },
  "cells": [
    {
      "cell_type": "markdown",
      "metadata": {
        "id": "view-in-github",
        "colab_type": "text"
      },
      "source": [
        "<a href=\"https://colab.research.google.com/github/DanielAG34/EDP/blob/main/Membrana_vibratoria.ipynb\" target=\"_parent\"><img src=\"https://colab.research.google.com/assets/colab-badge.svg\" alt=\"Open In Colab\"/></a>"
      ]
    },
    {
      "cell_type": "markdown",
      "source": [
        "Elaborar en un cuaderno de Jupyter la solución completa general de la ecuación de onda bidimensional sobre un rectángulo en el plano cartesiano (que modela la vibración de una membrana cuadrada). Luego aplicar la solución general a la función dada en la imagen, considerar que $g(x) = 0.$<b>\n",
        "\n"
      ],
      "metadata": {
        "id": "ZgzfA_QhUaYR"
      }
    },
    {
      "cell_type": "code",
      "source": [
        "\n",
        "import numpy as np\n",
        "import matplotlib.pyplot as plt\n",
        "from sympy import symbols, sin, pi, summation, Function, simplify, integrate, lambdify\n",
        "\n",
        "# Definimos de variables simbólicas\n",
        "x, y, a, b, m, n = symbols('x y a b m n', positive=True)\n",
        "fxy = 0.1 * (4*x - x**2) * (2*y - y**2)\n",
        "\n",
        "# Dominios del problema\n",
        "a_val = 4\n",
        "b_val = 2\n",
        "\n",
        "# Base de solución por separación de variables\n",
        "X_m = sin(m * pi * x / a)\n",
        "Y_n = sin(n * pi * y / b)\n",
        "phi_mn = X_m * Y_n\n",
        "\n",
        "# Coeficientes de Fourier\n",
        "A_mn = (4 / (a * b)) * integrate(integrate(fxy * phi_mn, (x, 0, a)), (y, 0, b))\n",
        "\n",
        "# Sustituir valores de a y b\n",
        "A_mn_val = A_mn.subs({a: a_val, b: b_val})\n",
        "A_mn_val = simplify(A_mn_val)\n",
        "\n",
        "# Mostrar forma general del coeficiente A_mn\n",
        "display(A_mn_val)\n",
        "\n",
        "# Generar solución general como suma doble truncada\n",
        "from sympy import Sum, cos, symbols, Function\n",
        "\n",
        "t, c = symbols('t c')\n",
        "u = Sum(Sum(\n",
        "    A_mn_val * cos(c * pi * ((m/a_val)**2 + (n/b_val)**2)**0.5 * t) * sin(m * pi * x / a_val) * sin(n * pi * y / b_val),\n",
        "    (m, 1, 5)), (n, 1, 5))\n",
        "\n",
        "display(u)\n"
      ],
      "metadata": {
        "colab": {
          "base_uri": "https://localhost:8080/",
          "height": 153
        },
        "id": "-s2mssY5UUhB",
        "outputId": "ec0bd488-dd5b-476e-86de-7248a5f4d7ca"
      },
      "execution_count": 4,
      "outputs": [
        {
          "output_type": "display_data",
          "data": {
            "text/plain": [
              "(-51.2*pi*m*sin(pi*m) - 51.2*pi*n*sin(pi*n) + 4*(6.4*pi*m*sin(pi*m) + 12.8*cos(pi*m))*(pi*n*sin(pi*n) + 2*cos(pi*n)) - 102.4*cos(pi*m) - 102.4*cos(pi*n) + 102.4)/(pi**6*m**3*n**3)"
            ],
            "text/latex": "$\\displaystyle \\frac{- 51.2 \\pi m \\sin{\\left(\\pi m \\right)} - 51.2 \\pi n \\sin{\\left(\\pi n \\right)} + 4 \\left(6.4 \\pi m \\sin{\\left(\\pi m \\right)} + 12.8 \\cos{\\left(\\pi m \\right)}\\right) \\left(\\pi n \\sin{\\left(\\pi n \\right)} + 2 \\cos{\\left(\\pi n \\right)}\\right) - 102.4 \\cos{\\left(\\pi m \\right)} - 102.4 \\cos{\\left(\\pi n \\right)} + 102.4}{\\pi^{6} m^{3} n^{3}}$"
          },
          "metadata": {}
        },
        {
          "output_type": "display_data",
          "data": {
            "text/plain": [
              "Sum((-51.2*pi*m*sin(pi*m) - 51.2*pi*n*sin(pi*n) + 4*(6.4*pi*m*sin(pi*m) + 12.8*cos(pi*m))*(pi*n*sin(pi*n) + 2*cos(pi*n)) - 102.4*cos(pi*m) - 102.4*cos(pi*n) + 102.4)*sin(pi*m*x/4)*sin(pi*n*y/2)*cos(pi*c*t*(m**2/16 + n**2/4)**0.5)/(pi**6*m**3*n**3), (m, 1, 5), (n, 1, 5))"
            ],
            "text/latex": "$\\displaystyle \\sum_{\\substack{1 \\leq m \\leq 5\\\\1 \\leq n \\leq 5}} \\frac{\\left(- 51.2 \\pi m \\sin{\\left(\\pi m \\right)} - 51.2 \\pi n \\sin{\\left(\\pi n \\right)} + 4 \\left(6.4 \\pi m \\sin{\\left(\\pi m \\right)} + 12.8 \\cos{\\left(\\pi m \\right)}\\right) \\left(\\pi n \\sin{\\left(\\pi n \\right)} + 2 \\cos{\\left(\\pi n \\right)}\\right) - 102.4 \\cos{\\left(\\pi m \\right)} - 102.4 \\cos{\\left(\\pi n \\right)} + 102.4\\right) \\sin{\\left(\\frac{\\pi m x}{4} \\right)} \\sin{\\left(\\frac{\\pi n y}{2} \\right)} \\cos{\\left(\\pi c t \\left(\\frac{m^{2}}{16} + \\frac{n^{2}}{4}\\right)^{0.5} \\right)}}{\\pi^{6} m^{3} n^{3}}$"
          },
          "metadata": {}
        }
      ]
    }
  ]
}