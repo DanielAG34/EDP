{
  "nbformat": 4,
  "nbformat_minor": 0,
  "metadata": {
    "colab": {
      "provenance": [],
      "authorship_tag": "ABX9TyPY7xHhW7tas35Yyu44WrTt",
      "include_colab_link": true
    },
    "kernelspec": {
      "name": "python3",
      "display_name": "Python 3"
    },
    "language_info": {
      "name": "python"
    }
  },
  "cells": [
    {
      "cell_type": "markdown",
      "metadata": {
        "id": "view-in-github",
        "colab_type": "text"
      },
      "source": [
        "<a href=\"https://colab.research.google.com/github/DanielAG34/EDP/blob/main/Formas_can%C3%B3nicas_I.ipynb\" target=\"_parent\"><img src=\"https://colab.research.google.com/assets/colab-badge.svg\" alt=\"Open In Colab\"/></a>"
      ]
    },
    {
      "cell_type": "markdown",
      "source": [
        "Usar sympy para escribir un programa que:<b>\n",
        "\n",
        "1) Calcule el indicador y decida que el tipo de una EDP dada. <b>\n",
        "\n",
        "2) De la transformación transformación lineal para llevar a su forma canónica una ecuación hiperbólica (ver foto del pizarrón). <b>\n",
        "\n",
        "3) Devuelva la EDP en su forma canónica. <b>\n",
        "\n",
        "Usando el siguiente ejemplo de ecuación Hiperbólica:<b>\n",
        "\n",
        "$\\xi = -(B+\\sqrt{B^{2}-4AC})x+2Ay$ <b>\n",
        "\n",
        "$η = -(B-\\sqrt{B^{2}-4AC})x+2Ay$ <b>\n",
        "\n",
        "$U_{xx} - 4U_{xy} +4U_{yy} + 2U_{x} + U_{y} + U = 0$\n"
      ],
      "metadata": {
        "id": "Zk0EZo9oWnLq"
      }
    },
    {
      "cell_type": "code",
      "execution_count": 5,
      "metadata": {
        "colab": {
          "base_uri": "https://localhost:8080/"
        },
        "collapsed": true,
        "id": "otvkorWTWG4F",
        "outputId": "2d9b8fd5-de93-4aa4-80bf-eb652a524976"
      },
      "outputs": [
        {
          "output_type": "stream",
          "name": "stdout",
          "text": [
            "Introdusta el coeficiente A de la función U_{xx}:1\n",
            "Introdusta el coeficiente  de la función U_{xy}:4\n",
            "Introdusta el coeficiente  de la función U_{yy}:2\n",
            "Introdusta el coeficiente  de la función U_{x}:1\n",
            "Introdusta el coeficiente  de la función U_{y}:1\n",
            "Introdusta el coeficiente  de la función U:1\n",
            "Clasificación de la EDP:\n",
            "Tipo: hiperbólica\n",
            "\n",
            "Transformación a coordenadas características:\n",
            "ξ = -6.82842712474619*x + 2.0*y\n",
            "η = -1.17157287525381*x + 2.0*y\n",
            "\n",
            "Forma canónica:\n",
            "u_ξη + términos de primer orden = 0\n"
          ]
        }
      ],
      "source": [
        "import sympy as sp\n",
        "\n",
        "def clasificacion_de_edp(edp_coef):\n",
        "\n",
        "    x, y = sp.symbols('x y')\n",
        "    A = edp_coef['A']\n",
        "    B = edp_coef['B']\n",
        "    C = edp_coef['C']\n",
        "\n",
        "    # 1. Calcular el discriminante y clasificar\n",
        "    discriminante = B**2 - 4*A*C\n",
        "\n",
        "    if discriminante > 0:\n",
        "        tipo = \"hiperbólica\"\n",
        "    elif discriminante == 0:\n",
        "        tipo = \"parabólica\"\n",
        "    else:\n",
        "        tipo = \"elíptica\"\n",
        "\n",
        "    resultado = {'tipo_edp': tipo}\n",
        "\n",
        "    # 2. Si es hiperbólica, calcular la transformación\n",
        "    if tipo == \"hiperbólica\":\n",
        "        sqrt_disc = sp.sqrt(discriminante)\n",
        "\n",
        "        ξ = (-(B + sqrt_disc)*x + 2*A*y)\n",
        "        η = (-(B - sqrt_disc)*x + 2*A*y)\n",
        "\n",
        "        resultado['transformacion'] = {'ξ': ξ, 'η': η}\n",
        "\n",
        "        # 3. Calcular la forma canónica (simplificada para este ejemplo)\n",
        "        # En la práctica habría que calcular las derivadas transformadas\n",
        "        forma_canonica = \"u_ξη + términos de primer orden = 0\"\n",
        "        resultado['forma_canonica'] = forma_canonica\n",
        "\n",
        "    return resultado\n",
        "\n",
        "A= float(input(\"Introdusta el coeficiente A de la función U_{xx}:\"))\n",
        "B= float(input(\"Introdusta el coeficiente  de la función U_{xy}:\"))\n",
        "C= float(input(\"Introdusta el coeficiente  de la función U_{yy}:\"))\n",
        "D= float(input(\"Introdusta el coeficiente  de la función U_{x}:\"))\n",
        "E= float(input(\"Introdusta el coeficiente  de la función U_{y}:\"))\n",
        "F= float(input(\"Introdusta el coeficiente  de la función U:\"))\n",
        "# Con los datos introducidos por el usuario calculamos el discriminante para calsificar el tipo de función\n",
        "Ecuación = {\n",
        "    'A': A,\n",
        "    'B': B,\n",
        "    'C': C,\n",
        "    'D': D,\n",
        "    'E': E,\n",
        "    'F': F\n",
        "}\n",
        "\n",
        "resultado = clasificacion_de_edp(Ecuación)\n",
        "\n",
        "print(\"Clasificación de la EDP:\")\n",
        "print(f\"Tipo: {resultado['tipo_edp']}\")\n",
        "\n",
        "if resultado['tipo_edp'] == \"hiperbólica\":\n",
        "    print(\"\\nTransformación a coordenadas características:\")\n",
        "    print(f\"ξ = {resultado['transformacion']['ξ']}\")\n",
        "    print(f\"η = {resultado['transformacion']['η']}\")\n",
        "\n",
        "    print(\"\\nForma canónica:\")\n",
        "    print(resultado['forma_canonica'])"
      ]
    }
  ]
}